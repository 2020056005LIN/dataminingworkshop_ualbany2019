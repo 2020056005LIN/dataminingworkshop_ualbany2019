{
 "cells": [
  {
   "cell_type": "markdown",
   "metadata": {
    "collapsed": true,
    "slideshow": {
     "slide_type": "slide"
    }
   },
   "source": [
    "***\n",
    "python intro\n",
    " # Python introduction\n",
    "***\n",
    "\n",
    "qianliu\n",
    "susannusas@gmail.com\n",
    "qliu20@albany.edu\n"
   ]
  },
  {
   "cell_type": "markdown",
   "metadata": {
    "slideshow": {
     "slide_type": "slide"
    }
   },
   "source": [
    "what is python\n",
    "Python（/ˈpaɪθən/）is a languiage\n",
    "\n",
    "是一种面向对象、解释型计算机程序设计语言\n",
    "- 由Guido van Rossum于1989年底发明\n",
    "- 第一个公开发行版发行于1991年\n",
    "- Python语法简洁而清晰\n",
    "- 具有强大的标准库和丰富的第三方模块\n",
    "- 它常被昵称为胶水语言\n",
    "- TIOBE编程语言排行榜“2010年度编程语言”\n",
    "Why Python?\n",
    "\n",
    "It is open source, and has many packages for math, statistics, biology, physics, atmospheric sciences, etc.\n",
    "- NumPy /SciPy for scientific computing\n",
    "- pandas to make Python usable for data analysis\n",
    "- matplotlib to make graphics\n",
    "- scikit-learn for machine learning\n",
    "insurance companies, investment banks, research firms\n",
    "Makes publication ready graphics, with very little effort\n",
    "Active external user support community (i.e. stackoverflow, github)\n",
    "Many powerful tools to extend it's usability (i.e. jupyter notebook)\n"
   ]
  },
  {
   "cell_type": "markdown",
   "metadata": {
    "slideshow": {
     "slide_type": "slide"
    }
   },
   "source": [
    "# main feature 特点\n",
    "- free 免费、功能强大、使用者众多\n",
    "- easy 与R和MATLAB相比，Python是一门更易学、更严谨的程序设计语言。使用Python编写的脚本更易于理解和维护。\n",
    "- basics 如同其它编程语言一样，Python语言的基础知识包括：类型、列表（list）和元组（tuple）、字典（dictionary）、条件、循环、异常处理等。\n",
    "- books 关于这些，初阶读者可以阅读《Beginning Python》一书（Hetland, 2005)。\n"
   ]
  },
  {
   "cell_type": "markdown",
   "metadata": {
    "slideshow": {
     "slide_type": "slide"
    }
   },
   "source": [
    "## classes in Python中包含了丰富的类库。\n",
    "众多开源的科学计算软件包都提供了Python的调用接口，例如著名的计算机视觉库OpenCV。\n",
    "Python本身的科学计算类库发展也十分完善，例如NumPy、SciPy和matplotlib等。\n",
    "就社会网络分析而言，igraph, networkx, graph-tool, Snap.py等类库提供了丰富的网络分析工具"
   ]
  },
  {
   "cell_type": "markdown",
   "metadata": {
    "slideshow": {
     "slide_type": "slide"
    }
   },
   "source": [
    "## Python and IDE\n",
    "目前最新的Python版本为3.0，更稳定的2.7版本。\n",
    "编译器是编写程序的重要工具。\n",
    "免费的Python编译器有Spyder、PyCharm(免费社区版)、Ipython、Vim、 Emacs、 Eclipse(加上PyDev插件)。\n"
   ]
  },
  {
   "cell_type": "markdown",
   "metadata": {
    "collapsed": true,
    "slideshow": {
     "slide_type": "slide"
    }
   },
   "source": [
    "# Installing Anaconda Python\n",
    "- Use the Anaconda Python\n",
    "\n",
    "    - https://docs.anaconda.com/anaconda/install/\n",
    "\n",
    "    - http://continuum.io/downloads.html"
   ]
  },
  {
   "cell_type": "markdown",
   "metadata": {
    "slideshow": {
     "slide_type": "slide"
    }
   },
   "source": [
    "# or use pip install \n",
    "- 可以点击ToolsOpen command prompt\n",
    "- 然后在打开的命令窗口中输入：\n"
   ]
  },
  {
   "cell_type": "markdown",
   "metadata": {
    "slideshow": {
     "slide_type": "fragment"
    }
   },
   "source": [
    "> pip install beautifulsoup4"
   ]
  },
  {
   "cell_type": "code",
   "execution_count": 1,
   "metadata": {
    "ExecuteTime": {
     "end_time": "2019-06-07T07:40:59.273350Z",
     "start_time": "2019-06-07T07:40:57.759770Z"
    },
    "slideshow": {
     "slide_type": "subslide"
    }
   },
   "outputs": [],
   "source": [
    "%matplotlib inline\n",
    "import numpy as np\n"
   ]
  },
  {
   "cell_type": "markdown",
   "metadata": {
    "slideshow": {
     "slide_type": "slide"
    }
   },
   "source": [
    "# Python Basics\n",
    "# Variable Type\n",
    "- String\n",
    "- Integer\n",
    "- Floating point \n",
    "## Data Types\n",
    "- String\n",
    "  - Strings can be defined with single (') or double quotes (\")\n",
    "  - docstrings are enclosed by three single ticks ''' '''\n",
    "    - docstrings are useful for providing information about what specific functions do\n",
    "- Integer\n",
    "  - integers can be signed or unsigned\n",
    "    - 0, -1, 2\n",
    "- Floating point integers are decimals\n",
    "  - 0.1, -100."
   ]
  },
  {
   "cell_type": "code",
   "execution_count": 2,
   "metadata": {
    "ExecuteTime": {
     "end_time": "2019-06-07T07:42:10.914308Z",
     "start_time": "2019-06-07T07:42:10.908752Z"
    },
    "slideshow": {
     "slide_type": "fragment"
    }
   },
   "outputs": [
    {
     "data": {
      "text/plain": [
       "'3'"
      ]
     },
     "execution_count": 2,
     "metadata": {},
     "output_type": "execute_result"
    }
   ],
   "source": [
    "# str, int, float\n",
    "str(3)"
   ]
  },
  {
   "cell_type": "code",
   "execution_count": 3,
   "metadata": {
    "ExecuteTime": {
     "end_time": "2019-06-07T07:42:17.732999Z",
     "start_time": "2019-06-07T07:42:17.729117Z"
    },
    "slideshow": {
     "slide_type": "subslide"
    }
   },
   "outputs": [
    {
     "data": {
      "text/plain": [
       "'susan liu'"
      ]
     },
     "execution_count": 3,
     "metadata": {},
     "output_type": "execute_result"
    }
   ],
   "source": [
    "\"susan liu\""
   ]
  },
  {
   "cell_type": "code",
   "execution_count": 4,
   "metadata": {
    "ExecuteTime": {
     "end_time": "2019-06-07T07:42:26.970333Z",
     "start_time": "2019-06-07T07:42:26.966073Z"
    },
    "slideshow": {
     "slide_type": "fragment"
    }
   },
   "outputs": [
    {
     "data": {
      "text/plain": [
       "5"
      ]
     },
     "execution_count": 4,
     "metadata": {},
     "output_type": "execute_result"
    }
   ],
   "source": [
    "# int\n",
    "int('5')"
   ]
  },
  {
   "cell_type": "code",
   "execution_count": 5,
   "metadata": {
    "ExecuteTime": {
     "end_time": "2019-06-07T07:42:40.601162Z",
     "start_time": "2019-06-07T07:42:40.596728Z"
    },
    "slideshow": {
     "slide_type": "fragment"
    }
   },
   "outputs": [
    {
     "data": {
      "text/plain": [
       "7.1"
      ]
     },
     "execution_count": 5,
     "metadata": {},
     "output_type": "execute_result"
    }
   ],
   "source": [
    "# float\n",
    "float('7.1')"
   ]
  },
  {
   "cell_type": "code",
   "execution_count": 6,
   "metadata": {
    "ExecuteTime": {
     "end_time": "2018-04-27T06:20:36.407179Z",
     "start_time": "2018-04-27T06:20:36.403171Z"
    },
    "slideshow": {
     "slide_type": "subslide"
    }
   },
   "outputs": [
    {
     "data": {
      "text/plain": [
       "range(0, 10)"
      ]
     },
     "execution_count": 6,
     "metadata": {},
     "output_type": "execute_result"
    }
   ],
   "source": [
    "range(10)"
   ]
  },
  {
   "cell_type": "code",
   "execution_count": 7,
   "metadata": {
    "ExecuteTime": {
     "end_time": "2018-04-27T06:20:44.836781Z",
     "start_time": "2018-04-27T06:20:44.832045Z"
    },
    "slideshow": {
     "slide_type": "fragment"
    }
   },
   "outputs": [
    {
     "name": "stdout",
     "output_type": "stream",
     "text": [
      "1\n",
      "2\n",
      "3\n",
      "4\n",
      "5\n",
      "6\n",
      "7\n",
      "8\n",
      "9\n"
     ]
    },
    {
     "data": {
      "text/plain": [
       "range(1, 10)"
      ]
     },
     "execution_count": 7,
     "metadata": {},
     "output_type": "execute_result"
    }
   ],
   "source": [
    "for i in range(1, 10):\n",
    "     print(i)\n",
    "\n",
    "range(1,10) "
   ]
  },
  {
   "cell_type": "markdown",
   "metadata": {
    "slideshow": {
     "slide_type": "slide"
    }
   },
   "source": [
    "# dir & help\n",
    "\n",
    "当你想要了解对象的详细信息时使用"
   ]
  },
  {
   "cell_type": "code",
   "execution_count": 8,
   "metadata": {
    "slideshow": {
     "slide_type": "fragment"
    }
   },
   "outputs": [
    {
     "data": {
      "text/plain": [
       "<function dir>"
      ]
     },
     "execution_count": 8,
     "metadata": {},
     "output_type": "execute_result"
    }
   ],
   "source": [
    "dir  "
   ]
  },
  {
   "cell_type": "code",
   "execution_count": 9,
   "metadata": {
    "ExecuteTime": {
     "end_time": "2018-04-27T06:21:19.950231Z",
     "start_time": "2018-04-27T06:21:19.945950Z"
    },
    "slideshow": {
     "slide_type": "fragment"
    }
   },
   "outputs": [
    {
     "data": {
      "text/plain": [
       "['__add__',\n",
       " '__class__',\n",
       " '__contains__',\n",
       " '__delattr__',\n",
       " '__dir__',\n",
       " '__doc__',\n",
       " '__eq__',\n",
       " '__format__',\n",
       " '__ge__',\n",
       " '__getattribute__',\n",
       " '__getitem__',\n",
       " '__getnewargs__',\n",
       " '__gt__',\n",
       " '__hash__',\n",
       " '__init__',\n",
       " '__init_subclass__',\n",
       " '__iter__',\n",
       " '__le__',\n",
       " '__len__',\n",
       " '__lt__',\n",
       " '__mod__',\n",
       " '__mul__',\n",
       " '__ne__',\n",
       " '__new__',\n",
       " '__reduce__',\n",
       " '__reduce_ex__',\n",
       " '__repr__',\n",
       " '__rmod__',\n",
       " '__rmul__',\n",
       " '__setattr__',\n",
       " '__sizeof__',\n",
       " '__str__',\n",
       " '__subclasshook__',\n",
       " 'capitalize',\n",
       " 'casefold',\n",
       " 'center',\n",
       " 'count',\n",
       " 'encode',\n",
       " 'endswith',\n",
       " 'expandtabs',\n",
       " 'find',\n",
       " 'format',\n",
       " 'format_map',\n",
       " 'index',\n",
       " 'isalnum',\n",
       " 'isalpha',\n",
       " 'isascii',\n",
       " 'isdecimal',\n",
       " 'isdigit',\n",
       " 'isidentifier',\n",
       " 'islower',\n",
       " 'isnumeric',\n",
       " 'isprintable',\n",
       " 'isspace',\n",
       " 'istitle',\n",
       " 'isupper',\n",
       " 'join',\n",
       " 'ljust',\n",
       " 'lower',\n",
       " 'lstrip',\n",
       " 'maketrans',\n",
       " 'partition',\n",
       " 'replace',\n",
       " 'rfind',\n",
       " 'rindex',\n",
       " 'rjust',\n",
       " 'rpartition',\n",
       " 'rsplit',\n",
       " 'rstrip',\n",
       " 'split',\n",
       " 'splitlines',\n",
       " 'startswith',\n",
       " 'strip',\n",
       " 'swapcase',\n",
       " 'title',\n",
       " 'translate',\n",
       " 'upper',\n",
       " 'zfill']"
      ]
     },
     "execution_count": 9,
     "metadata": {},
     "output_type": "execute_result"
    }
   ],
   "source": [
    "dir(str)"
   ]
  },
  {
   "cell_type": "code",
   "execution_count": 10,
   "metadata": {
    "slideshow": {
     "slide_type": "subslide"
    }
   },
   "outputs": [],
   "source": [
    "#help(str)"
   ]
  },
  {
   "cell_type": "code",
   "execution_count": 11,
   "metadata": {
    "ExecuteTime": {
     "end_time": "2018-04-27T06:23:11.453270Z",
     "start_time": "2018-04-27T06:23:11.448761Z"
    },
    "slideshow": {
     "slide_type": "fragment"
    }
   },
   "outputs": [
    {
     "data": {
      "text/plain": [
       "' Hello WorlD  '"
      ]
     },
     "execution_count": 11,
     "metadata": {},
     "output_type": "execute_result"
    }
   ],
   "source": [
    "x = ' Hello WorlD  '\n",
    "x"
   ]
  },
  {
   "cell_type": "code",
   "execution_count": 12,
   "metadata": {
    "ExecuteTime": {
     "end_time": "2018-04-27T06:23:14.557187Z",
     "start_time": "2018-04-27T06:23:14.553212Z"
    },
    "slideshow": {
     "slide_type": "subslide"
    }
   },
   "outputs": [
    {
     "data": {
      "text/plain": [
       "' hello world  '"
      ]
     },
     "execution_count": 12,
     "metadata": {},
     "output_type": "execute_result"
    }
   ],
   "source": [
    "# lower\n",
    "x.lower() "
   ]
  },
  {
   "cell_type": "code",
   "execution_count": 13,
   "metadata": {
    "ExecuteTime": {
     "end_time": "2018-04-27T06:23:18.953978Z",
     "start_time": "2018-04-27T06:23:18.949629Z"
    },
    "slideshow": {
     "slide_type": "fragment"
    }
   },
   "outputs": [
    {
     "data": {
      "text/plain": [
       "' HELLO WORLD  '"
      ]
     },
     "execution_count": 13,
     "metadata": {},
     "output_type": "execute_result"
    }
   ],
   "source": [
    "# upper\n",
    "x.upper()"
   ]
  },
  {
   "cell_type": "code",
   "execution_count": 14,
   "metadata": {
    "ExecuteTime": {
     "end_time": "2018-04-27T06:23:31.134109Z",
     "start_time": "2018-04-27T06:23:31.129973Z"
    },
    "slideshow": {
     "slide_type": "fragment"
    }
   },
   "outputs": [
    {
     "data": {
      "text/plain": [
       "' Hello WorlD'"
      ]
     },
     "execution_count": 14,
     "metadata": {},
     "output_type": "execute_result"
    }
   ],
   "source": [
    "# rstrip\n",
    "x.rstrip()"
   ]
  },
  {
   "cell_type": "code",
   "execution_count": 15,
   "metadata": {
    "ExecuteTime": {
     "end_time": "2018-04-27T06:23:37.763894Z",
     "start_time": "2018-04-27T06:23:37.759636Z"
    },
    "slideshow": {
     "slide_type": "fragment"
    }
   },
   "outputs": [
    {
     "data": {
      "text/plain": [
       "'Hello WorlD'"
      ]
     },
     "execution_count": 15,
     "metadata": {},
     "output_type": "execute_result"
    }
   ],
   "source": [
    "# strip\n",
    "x.strip()"
   ]
  },
  {
   "cell_type": "code",
   "execution_count": 16,
   "metadata": {
    "ExecuteTime": {
     "end_time": "2018-04-27T06:23:51.620380Z",
     "start_time": "2018-04-27T06:23:51.616412Z"
    },
    "slideshow": {
     "slide_type": "subslide"
    }
   },
   "outputs": [
    {
     "data": {
      "text/plain": [
       "' Hel WorlD  '"
      ]
     },
     "execution_count": 16,
     "metadata": {},
     "output_type": "execute_result"
    }
   ],
   "source": [
    "# replace\n",
    "x.replace('lo', '')"
   ]
  },
  {
   "cell_type": "code",
   "execution_count": 17,
   "metadata": {
    "ExecuteTime": {
     "end_time": "2018-04-27T06:24:04.701746Z",
     "start_time": "2018-04-27T06:24:04.697506Z"
    },
    "slideshow": {
     "slide_type": "fragment"
    }
   },
   "outputs": [
    {
     "data": {
      "text/plain": [
       "[' Hel', ' WorlD  ']"
      ]
     },
     "execution_count": 17,
     "metadata": {},
     "output_type": "execute_result"
    }
   ],
   "source": [
    "# split\n",
    "x.split('lo')"
   ]
  },
  {
   "cell_type": "code",
   "execution_count": 18,
   "metadata": {
    "ExecuteTime": {
     "end_time": "2018-04-27T06:24:59.418177Z",
     "start_time": "2018-04-27T06:24:59.414081Z"
    }
   },
   "outputs": [
    {
     "data": {
      "text/plain": [
       "'a,b'"
      ]
     },
     "execution_count": 18,
     "metadata": {},
     "output_type": "execute_result"
    }
   ],
   "source": [
    "# join \n",
    "','.join(['a', 'b'])"
   ]
  },
  {
   "cell_type": "markdown",
   "metadata": {
    "slideshow": {
     "slide_type": "slide"
    }
   },
   "source": [
    "# type\n",
    "当你想要了解变量类型时使用type"
   ]
  },
  {
   "cell_type": "code",
   "execution_count": 19,
   "metadata": {
    "ExecuteTime": {
     "end_time": "2018-04-27T06:25:17.139503Z",
     "start_time": "2018-04-27T06:25:17.135387Z"
    },
    "slideshow": {
     "slide_type": "subslide"
    }
   },
   "outputs": [
    {
     "data": {
      "text/plain": [
       "str"
      ]
     },
     "execution_count": 19,
     "metadata": {},
     "output_type": "execute_result"
    }
   ],
   "source": [
    "x = 'hello world'\n",
    "type(x)"
   ]
  },
  {
   "cell_type": "markdown",
   "metadata": {
    "slideshow": {
     "slide_type": "slide"
    }
   },
   "source": [
    "# Data Structure\n",
    "list, tuple, set, dictionary, array\n",
    "\n",
    "list:链表,有序的项目, 通过索引进行查找,使用方括号”[]”;\n",
    "\n",
    "tuple:元组,元组将多样的对象集合到一起,不能修改,通过索引进行查找, 使用括号”()”;\n",
    "\n",
    "dict:字典,字典是一组键(key)和值(value)的组合,通过键(key)进行查找,没有顺序, 使用大括号”{}”;\n",
    "\n",
    "set:集合,无序,元素只出现一次, 自动去重,使用”set([])”\n",
    "\n",
    "应用场景:\n",
    "\n",
    "list, 简单的数据集合,可以使用索引;\n",
    "\n",
    "tuple, 把一些数据当做一个整体去使用,不能修改;\n",
    "\n",
    "dict,使用键值和值进行关联的数据;\n",
    "\n",
    "set,数据只出现一次,只关心数据是否出现, 不关心其位置;\n",
    "\n",
    "# Python Basics\n",
    "***\n",
    "## Data Collections\n",
    "- list - ordered and changeable, allows duplicates\n",
    "\n",
    "  `symbol=['AAPL','NKE','UA']`\n",
    "\n",
    "  `price=[223.54,92.28,17.68]`\n",
    "- tuple - ordered and unchangeable, allows duplicates\n",
    "  \n",
    "  `(('AAPL',223.54),('NKE',92.28),('UA',17.68))`\n",
    "- dictionary - unordered, changeable and indexed, no duplicate members\n",
    "\n",
    "  `stocks={'AAPL': 223.54, 'NKE': 92.28,'UA': 17.68}`\n",
    "- set - unordered and unindexed, no duplicate members\n",
    "  \n",
    "  `symbol=set('AAPL','NKE','UA')`\n"
   ]
  },
  {
   "cell_type": "code",
   "execution_count": 20,
   "metadata": {
    "ExecuteTime": {
     "end_time": "2019-06-07T07:50:17.227833Z",
     "start_time": "2019-06-07T07:50:17.220944Z"
    },
    "slideshow": {
     "slide_type": "fragment"
    }
   },
   "outputs": [
    {
     "name": "stdout",
     "output_type": "stream",
     "text": [
      "[1, 2, 3, 3] (1, 2, 3, 3) {1, 2, 3} {'a': 1, 'b': 2, 'c': 3} [1 2 3 3]\n"
     ]
    }
   ],
   "source": [
    "l = [1,2,3,3] # list\n",
    "t = (1, 2, 3, 3) # tuple\n",
    "s = {1, 2, 3, 3} # set([1,2,3,3]) # set\n",
    "d = {'a':1,'b':2,'c':3} # dict\n",
    "a = np.array(l) # array\n",
    "print(l, t, s, d, a)\n"
   ]
  },
  {
   "cell_type": "code",
   "execution_count": 21,
   "metadata": {
    "ExecuteTime": {
     "end_time": "2019-06-07T07:52:54.945655Z",
     "start_time": "2019-06-07T07:52:54.940401Z"
    },
    "slideshow": {
     "slide_type": "fragment"
    }
   },
   "outputs": [
    {
     "data": {
      "text/plain": [
       "[1, 2, 3, 3, 4]"
      ]
     },
     "execution_count": 21,
     "metadata": {},
     "output_type": "execute_result"
    }
   ],
   "source": [
    "l = [1,2,3,3] # list\n",
    "l.append(4)\n",
    "l"
   ]
  },
  {
   "cell_type": "code",
   "execution_count": 22,
   "metadata": {
    "ExecuteTime": {
     "end_time": "2019-06-07T07:53:05.167022Z",
     "start_time": "2019-06-07T07:53:05.162185Z"
    },
    "slideshow": {
     "slide_type": "slide"
    }
   },
   "outputs": [
    {
     "data": {
      "text/plain": [
       "dict_keys(['a', 'b', 'c'])"
      ]
     },
     "execution_count": 22,
     "metadata": {},
     "output_type": "execute_result"
    }
   ],
   "source": [
    "d = {'a':1,'b':2,'c':3} # dict\n",
    "d.keys()"
   ]
  },
  {
   "cell_type": "code",
   "execution_count": 23,
   "metadata": {
    "ExecuteTime": {
     "end_time": "2019-06-07T07:53:19.913765Z",
     "start_time": "2019-06-07T07:53:19.909316Z"
    },
    "slideshow": {
     "slide_type": "fragment"
    }
   },
   "outputs": [
    {
     "data": {
      "text/plain": [
       "dict_values([1, 2, 3])"
      ]
     },
     "execution_count": 23,
     "metadata": {},
     "output_type": "execute_result"
    }
   ],
   "source": [
    "d = {'a':1,'b':2,'c':3} # dict\n",
    "d.values()"
   ]
  },
  {
   "cell_type": "code",
   "execution_count": 24,
   "metadata": {
    "ExecuteTime": {
     "end_time": "2019-06-07T07:54:14.915930Z",
     "start_time": "2019-06-07T07:54:14.911539Z"
    },
    "slideshow": {
     "slide_type": "fragment"
    }
   },
   "outputs": [
    {
     "data": {
      "text/plain": [
       "2"
      ]
     },
     "execution_count": 24,
     "metadata": {},
     "output_type": "execute_result"
    }
   ],
   "source": [
    "d = {'a':1,'b':2,'c':3} # dict\n",
    "d['b']"
   ]
  },
  {
   "cell_type": "code",
   "execution_count": 25,
   "metadata": {
    "ExecuteTime": {
     "end_time": "2019-06-07T07:54:38.243408Z",
     "start_time": "2019-06-07T07:54:38.238512Z"
    },
    "slideshow": {
     "slide_type": "fragment"
    }
   },
   "outputs": [
    {
     "data": {
      "text/plain": [
       "dict_items([('a', 1), ('b', 2), ('c', 3)])"
      ]
     },
     "execution_count": 25,
     "metadata": {},
     "output_type": "execute_result"
    }
   ],
   "source": [
    "d = {'a':1,'b':2,'c':3} # dict\n",
    "d.items()"
   ]
  },
  {
   "cell_type": "markdown",
   "metadata": {
    "slideshow": {
     "slide_type": "slide"
    }
   },
   "source": [
    "# function 定义函数"
   ]
  },
  {
   "cell_type": "code",
   "execution_count": 26,
   "metadata": {
    "ExecuteTime": {
     "end_time": "2019-06-07T07:56:56.067506Z",
     "start_time": "2019-06-07T07:56:56.063846Z"
    },
    "slideshow": {
     "slide_type": "fragment"
    }
   },
   "outputs": [],
   "source": [
    "def devidePlus(m, n): # 结尾是冒号\n",
    "    y = m/n + 1 # 注意：空格\n",
    "    return y          # 注意：return"
   ]
  },
  {
   "cell_type": "markdown",
   "metadata": {},
   "source": [
    "# Python Basics\n",
    "\n",
    "## Logical Tests\n",
    "- Equals ==\n",
    "- Greater than or equal to >=\n",
    "- Less than or equal to <=\n",
    "- Not equal to !=\n",
    "- or |"
   ]
  },
  {
   "cell_type": "markdown",
   "metadata": {
    "slideshow": {
     "slide_type": "slide"
    }
   },
   "source": [
    "## For loop 循环\n",
    "# Python Basics\n",
    "***\n",
    "## Looping\n",
    "- \"looping\" allows iteration over a variable, list of numbers, dictionary key,value pairs, etc. so that many calculations that would be typed line by line need only be typed once!\n",
    "- loops follow the form of:\n",
    "\n",
    "` for var in something:\n",
    "    do something here`\n",
    "      \n",
    "- indentation is critical for looping, \"tab\" may not always be equal to four spaces, check with your editor!\n",
    "- Let's loop over the symbol and price lists from early, to print the stock symbol and strike price for each"
   ]
  },
  {
   "cell_type": "code",
   "execution_count": 27,
   "metadata": {
    "ExecuteTime": {
     "end_time": "2018-04-27T06:33:20.876576Z",
     "start_time": "2018-04-27T06:33:20.872650Z"
    },
    "slideshow": {
     "slide_type": "fragment"
    }
   },
   "outputs": [
    {
     "data": {
      "text/plain": [
       "range(0, 10)"
      ]
     },
     "execution_count": 27,
     "metadata": {},
     "output_type": "execute_result"
    }
   ],
   "source": [
    "range(10)"
   ]
  },
  {
   "cell_type": "code",
   "execution_count": 28,
   "metadata": {
    "ExecuteTime": {
     "end_time": "2018-04-27T06:33:24.357364Z",
     "start_time": "2018-04-27T06:33:24.353424Z"
    },
    "slideshow": {
     "slide_type": "fragment"
    }
   },
   "outputs": [
    {
     "data": {
      "text/plain": [
       "range(1, 10)"
      ]
     },
     "execution_count": 28,
     "metadata": {},
     "output_type": "execute_result"
    }
   ],
   "source": [
    "range(1, 10)  "
   ]
  },
  {
   "cell_type": "code",
   "execution_count": 29,
   "metadata": {
    "ExecuteTime": {
     "end_time": "2018-04-27T06:34:00.778647Z",
     "start_time": "2018-04-27T06:34:00.774164Z"
    },
    "slideshow": {
     "slide_type": "fragment"
    }
   },
   "outputs": [
    {
     "name": "stdout",
     "output_type": "stream",
     "text": [
      "0 0 0\n",
      "1 10 1\n",
      "2 20 4\n",
      "3 30 9\n",
      "4 40 16\n",
      "5 50 25\n",
      "6 60 36\n",
      "7 70 49\n",
      "8 80 64\n",
      "9 90 81\n"
     ]
    }
   ],
   "source": [
    "for i in range(10):\n",
    "    print(i, i*10, i**2)"
   ]
  },
  {
   "cell_type": "code",
   "execution_count": 30,
   "metadata": {
    "ExecuteTime": {
     "end_time": "2018-04-27T06:34:35.034598Z",
     "start_time": "2018-04-27T06:34:35.030691Z"
    },
    "slideshow": {
     "slide_type": "subslide"
    }
   },
   "outputs": [
    {
     "name": "stdout",
     "output_type": "stream",
     "text": [
      "0\n",
      "10\n",
      "20\n",
      "30\n",
      "40\n",
      "50\n",
      "60\n",
      "70\n",
      "80\n",
      "90\n"
     ]
    }
   ],
   "source": [
    "for i in range(10):\n",
    "    print(i*10) "
   ]
  },
  {
   "cell_type": "code",
   "execution_count": 31,
   "metadata": {
    "ExecuteTime": {
     "end_time": "2018-04-27T06:34:43.906153Z",
     "start_time": "2018-04-27T06:34:43.901677Z"
    },
    "slideshow": {
     "slide_type": "fragment"
    }
   },
   "outputs": [
    {
     "name": "stdout",
     "output_type": "stream",
     "text": [
      "1.0\n",
      "1.5\n",
      "2.0\n",
      "2.5\n",
      "3.0\n",
      "3.5\n",
      "4.0\n",
      "4.5\n",
      "5.0\n",
      "5.5\n"
     ]
    }
   ],
   "source": [
    "for i in range(10):\n",
    "    print(devidePlus(i, 2))"
   ]
  },
  {
   "cell_type": "code",
   "execution_count": 32,
   "metadata": {
    "slideshow": {
     "slide_type": "subslide"
    }
   },
   "outputs": [
    {
     "data": {
      "text/plain": [
       "[1.0, 1.5, 2.0, 2.5, 3.0, 3.5, 4.0, 4.5, 5.0, 5.5]"
      ]
     },
     "execution_count": 32,
     "metadata": {},
     "output_type": "execute_result"
    }
   ],
   "source": [
    "# 列表内部的for循环\n",
    "r = [devidePlus(i, 2)  for i in range(10)]\n",
    "r "
   ]
  },
  {
   "cell_type": "markdown",
   "metadata": {
    "slideshow": {
     "slide_type": "slide"
    }
   },
   "source": [
    "# if elif else"
   ]
  },
  {
   "cell_type": "code",
   "execution_count": 37,
   "metadata": {
    "ExecuteTime": {
     "end_time": "2019-06-07T08:02:13.690924Z",
     "start_time": "2019-06-07T08:02:13.682806Z"
    },
    "slideshow": {
     "slide_type": "subslide"
    }
   },
   "outputs": [
    {
     "name": "stdout",
     "output_type": "stream",
     "text": [
      "5 0 10\n"
     ]
    }
   ],
   "source": [
    "x = 5\n",
    "if x < 5:\n",
    "    y = -1\n",
    "    z = 5\n",
    "elif x > 5:\n",
    "    y = 1\n",
    "    z = 11\n",
    "else:\n",
    "    y = 0\n",
    "    z = 10\n",
    "print(x, y, z)"
   ]
  },
  {
   "cell_type": "markdown",
   "metadata": {
    "slideshow": {
     "slide_type": "slide"
    }
   },
   "source": [
    "# while循环"
   ]
  },
  {
   "cell_type": "code",
   "execution_count": 34,
   "metadata": {
    "ExecuteTime": {
     "end_time": "2019-06-07T08:03:12.473818Z",
     "start_time": "2019-06-07T08:03:12.469141Z"
    },
    "slideshow": {
     "slide_type": "fragment"
    }
   },
   "outputs": [
    {
     "name": "stdout",
     "output_type": "stream",
     "text": [
      "0\n",
      "1\n",
      "2\n",
      "3\n",
      "4\n",
      "5\n",
      "6\n",
      "7\n",
      "8\n",
      "9\n"
     ]
    }
   ],
   "source": [
    "j = 0\n",
    "while j <10:\n",
    "    print(j)\n",
    "    j+=1 # avoid dead loop\n",
    "    "
   ]
  },
  {
   "cell_type": "code",
   "execution_count": 38,
   "metadata": {
    "ExecuteTime": {
     "end_time": "2018-04-27T06:46:42.488098Z",
     "start_time": "2018-04-27T06:46:42.482791Z"
    },
    "slideshow": {
     "slide_type": "subslide"
    }
   },
   "outputs": [
    {
     "name": "stdout",
     "output_type": "stream",
     "text": [
      "4\n",
      "3\n",
      "2\n",
      "1\n"
     ]
    }
   ],
   "source": [
    "a = 4\n",
    "while a: # 0, None, False\n",
    "    print(a) \n",
    "    a -= 1\n",
    "    if a < 0:\n",
    "        a = None # []"
   ]
  },
  {
   "cell_type": "code",
   "execution_count": null,
   "metadata": {},
   "outputs": [],
   "source": []
  }
 ],
 "metadata": {
  "celltoolbar": "Slideshow",
  "kernelspec": {
   "display_name": "Python 3",
   "language": "python",
   "name": "python3"
  },
  "language_info": {
   "codemirror_mode": {
    "name": "ipython",
    "version": 3
   },
   "file_extension": ".py",
   "mimetype": "text/x-python",
   "name": "python",
   "nbconvert_exporter": "python",
   "pygments_lexer": "ipython3",
   "version": "3.7.3"
  },
  "latex_envs": {
   "LaTeX_envs_menu_present": true,
   "autoclose": false,
   "autocomplete": true,
   "bibliofile": "biblio.bib",
   "cite_by": "apalike",
   "current_citInitial": 1,
   "eqLabelWithNumbers": true,
   "eqNumInitial": 0,
   "hotkeys": {
    "equation": "Ctrl-E",
    "itemize": "Ctrl-I"
   },
   "labels_anchors": false,
   "latex_user_defs": false,
   "report_style_numbering": false,
   "user_envs_cfg": false
  },
  "toc": {
   "base_numbering": 1,
   "nav_menu": {},
   "number_sections": false,
   "sideBar": false,
   "skip_h1_title": false,
   "title_cell": "Table of Contents",
   "title_sidebar": "Contents",
   "toc_cell": false,
   "toc_position": {
    "height": "48px",
    "left": "1263px",
    "top": "0px",
    "width": "159px"
   },
   "toc_section_display": false,
   "toc_window_display": true
  },
  "toc_position": {
   "height": "339px",
   "left": "1245.99px",
   "right": "20px",
   "top": "120px",
   "width": "196px"
  }
 },
 "nbformat": 4,
 "nbformat_minor": 1
}
